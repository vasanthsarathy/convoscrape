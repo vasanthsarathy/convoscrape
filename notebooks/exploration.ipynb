{
 "cells": [
  {
   "cell_type": "markdown",
   "id": "82699993",
   "metadata": {},
   "source": [
    "# Introduction\n",
    "\n",
    "snscrape is a social media scraping tool. \n",
    "\n",
    "Github: https://github.com/JustAnotherArchivist/snscrape\n",
    "\n",
    "Guides\n",
    "- https://betterprogramming.pub/how-to-scrape-tweets-with-snscrape-90124ed006af\n",
    "- https://medium.com/dataseries/how-to-scrape-millions-of-tweets-using-snscrape-195ee3594721\n",
    "- Describes inputs (https://datasciencedojo.com/blog/scrape-twitter-data-using-snscrape/)\n",
    "- Another nice resource: https://medium.com/swlh/how-to-scrape-tweets-by-location-in-python-using-snscrape-8c870fa6ec25\n",
    "\n",
    "Other guides\n",
    "- Searching operators in Twitter (https://github.com/igorbrigadir/twitter-advanced-search)\n",
    "- \n"
   ]
  },
  {
   "cell_type": "markdown",
   "id": "ee549ebf",
   "metadata": {},
   "source": [
    "# Exploration and Learning"
   ]
  },
  {
   "cell_type": "code",
   "execution_count": 19,
   "id": "2ec00149",
   "metadata": {},
   "outputs": [
    {
     "name": "stdout",
     "output_type": "stream",
     "text": [
      "1629904503003553794\n"
     ]
    },
    {
     "name": "stderr",
     "output_type": "stream",
     "text": [
      "/tmp/ipykernel_981985/575764440.py:21: FutureWarning: content is deprecated, use rawContent instead\n",
      "  tweets_list1.append([tweet.date, tweet.id, tweet.content, tweet.user.username]) #declare the attributes to be returned\n"
     ]
    }
   ],
   "source": [
    "# importing libraries and packages\n",
    "import snscrape.modules.twitter as sntwitter\n",
    "import pandas as pd\n",
    "from pprint import pprint\n",
    "\n",
    "# Creating list to append tweet data \n",
    "tweets_list1 = []\n",
    "\n",
    "# Search term\n",
    "user = \"from:anadoluajansi\"\n",
    "time = \"since:2023-02-05 until:2023-02-27\"\n",
    "search_term = user+\" \"+time\n",
    "\n",
    "\n",
    "# Using TwitterSearchScraper to scrape data and append tweets to list\n",
    "for i,tweet in enumerate(sntwitter.TwitterSearchScraper(search_term).get_items()): #declare a username \n",
    "    if i>10: #number of tweets you want to scrape\n",
    "        pprint(tweet.conversationId)\n",
    "        break\n",
    "        \n",
    "    tweets_list1.append([tweet.date, tweet.id, tweet.content, tweet.user.username]) #declare the attributes to be returned\n",
    "    \n",
    "# Creating a dataframe from the tweets list above \n",
    "tweets_df1 = pd.DataFrame(tweets_list1, columns=['Datetime', 'Tweet Id', 'Text', 'Username'])"
   ]
  },
  {
   "cell_type": "code",
   "execution_count": 20,
   "id": "6b81429c",
   "metadata": {},
   "outputs": [
    {
     "data": {
      "text/plain": [
       "11"
      ]
     },
     "execution_count": 20,
     "metadata": {},
     "output_type": "execute_result"
    }
   ],
   "source": [
    "len(tweets_df1)"
   ]
  },
  {
   "cell_type": "code",
   "execution_count": 27,
   "id": "894774af",
   "metadata": {},
   "outputs": [
    {
     "data": {
      "text/html": [
       "<div>\n",
       "<style scoped>\n",
       "    .dataframe tbody tr th:only-of-type {\n",
       "        vertical-align: middle;\n",
       "    }\n",
       "\n",
       "    .dataframe tbody tr th {\n",
       "        vertical-align: top;\n",
       "    }\n",
       "\n",
       "    .dataframe thead th {\n",
       "        text-align: right;\n",
       "    }\n",
       "</style>\n",
       "<table border=\"1\" class=\"dataframe\">\n",
       "  <thead>\n",
       "    <tr style=\"text-align: right;\">\n",
       "      <th></th>\n",
       "      <th>Datetime</th>\n",
       "      <th>Tweet Id</th>\n",
       "      <th>Text</th>\n",
       "      <th>Username</th>\n",
       "    </tr>\n",
       "  </thead>\n",
       "  <tbody>\n",
       "    <tr>\n",
       "      <th>0</th>\n",
       "      <td>2023-02-26 23:00:04+00:00</td>\n",
       "      <td>1629979640029749257</td>\n",
       "      <td>Milli Eğitim Bakanlığı, 1 milyon 200 bin öğret...</td>\n",
       "      <td>anadoluajansi</td>\n",
       "    </tr>\n",
       "    <tr>\n",
       "      <th>1</th>\n",
       "      <td>2023-02-26 22:00:23+00:00</td>\n",
       "      <td>1629964621476945923</td>\n",
       "      <td>TBMM Genel Kurulu, EYT ve depremlerle ilgili a...</td>\n",
       "      <td>anadoluajansi</td>\n",
       "    </tr>\n",
       "    <tr>\n",
       "      <th>2</th>\n",
       "      <td>2023-02-26 20:59:04+00:00</td>\n",
       "      <td>1629949189688901634</td>\n",
       "      <td>❝Türk milletine destek vermek için geldik❞\\n\\n...</td>\n",
       "      <td>anadoluajansi</td>\n",
       "    </tr>\n",
       "    <tr>\n",
       "      <th>3</th>\n",
       "      <td>2023-02-26 20:40:04+00:00</td>\n",
       "      <td>1629944407498604547</td>\n",
       "      <td>❝Dünyanın yalnızca ABD'nin çıkarları doğrultus...</td>\n",
       "      <td>anadoluajansi</td>\n",
       "    </tr>\n",
       "    <tr>\n",
       "      <th>4</th>\n",
       "      <td>2023-02-26 20:20:04+00:00</td>\n",
       "      <td>1629939374870654978</td>\n",
       "      <td>Kahramanmaraş merkezli depremlerde yaralanarak...</td>\n",
       "      <td>anadoluajansi</td>\n",
       "    </tr>\n",
       "    <tr>\n",
       "      <th>5</th>\n",
       "      <td>2023-02-26 20:10:00+00:00</td>\n",
       "      <td>1629936840357859330</td>\n",
       "      <td>❝Durmadan Yorulmadan kahraman Mehmetçik, en zo...</td>\n",
       "      <td>anadoluajansi</td>\n",
       "    </tr>\n",
       "    <tr>\n",
       "      <th>6</th>\n",
       "      <td>2023-02-26 20:00:00+00:00</td>\n",
       "      <td>1629934325612560385</td>\n",
       "      <td>Kahramanmaraş'ta Tarım ve Orman Bakanlığı tara...</td>\n",
       "      <td>anadoluajansi</td>\n",
       "    </tr>\n",
       "    <tr>\n",
       "      <th>7</th>\n",
       "      <td>2023-02-26 19:30:04+00:00</td>\n",
       "      <td>1629926792998928388</td>\n",
       "      <td>Çanakkale'de etkili olan lodos nedeniyle yarın...</td>\n",
       "      <td>anadoluajansi</td>\n",
       "    </tr>\n",
       "    <tr>\n",
       "      <th>8</th>\n",
       "      <td>2023-02-26 19:00:00+00:00</td>\n",
       "      <td>1629919226080157696</td>\n",
       "      <td>Gaziantep'in İslahiye ilçesinde AFAD'ın kurduğ...</td>\n",
       "      <td>anadoluajansi</td>\n",
       "    </tr>\n",
       "    <tr>\n",
       "      <th>9</th>\n",
       "      <td>2023-02-26 18:40:04+00:00</td>\n",
       "      <td>1629914208346296323</td>\n",
       "      <td>Hocalı Katliamı'nı soruşturan savcı Memmedov: ...</td>\n",
       "      <td>anadoluajansi</td>\n",
       "    </tr>\n",
       "    <tr>\n",
       "      <th>10</th>\n",
       "      <td>2023-02-26 18:20:04+00:00</td>\n",
       "      <td>1629909176334925826</td>\n",
       "      <td>❝Buradaki vatandaşlarımızın hem kendilerine he...</td>\n",
       "      <td>anadoluajansi</td>\n",
       "    </tr>\n",
       "  </tbody>\n",
       "</table>\n",
       "</div>"
      ],
      "text/plain": [
       "                    Datetime             Tweet Id  \\\n",
       "0  2023-02-26 23:00:04+00:00  1629979640029749257   \n",
       "1  2023-02-26 22:00:23+00:00  1629964621476945923   \n",
       "2  2023-02-26 20:59:04+00:00  1629949189688901634   \n",
       "3  2023-02-26 20:40:04+00:00  1629944407498604547   \n",
       "4  2023-02-26 20:20:04+00:00  1629939374870654978   \n",
       "5  2023-02-26 20:10:00+00:00  1629936840357859330   \n",
       "6  2023-02-26 20:00:00+00:00  1629934325612560385   \n",
       "7  2023-02-26 19:30:04+00:00  1629926792998928388   \n",
       "8  2023-02-26 19:00:00+00:00  1629919226080157696   \n",
       "9  2023-02-26 18:40:04+00:00  1629914208346296323   \n",
       "10 2023-02-26 18:20:04+00:00  1629909176334925826   \n",
       "\n",
       "                                                 Text       Username  \n",
       "0   Milli Eğitim Bakanlığı, 1 milyon 200 bin öğret...  anadoluajansi  \n",
       "1   TBMM Genel Kurulu, EYT ve depremlerle ilgili a...  anadoluajansi  \n",
       "2   ❝Türk milletine destek vermek için geldik❞\\n\\n...  anadoluajansi  \n",
       "3   ❝Dünyanın yalnızca ABD'nin çıkarları doğrultus...  anadoluajansi  \n",
       "4   Kahramanmaraş merkezli depremlerde yaralanarak...  anadoluajansi  \n",
       "5   ❝Durmadan Yorulmadan kahraman Mehmetçik, en zo...  anadoluajansi  \n",
       "6   Kahramanmaraş'ta Tarım ve Orman Bakanlığı tara...  anadoluajansi  \n",
       "7   Çanakkale'de etkili olan lodos nedeniyle yarın...  anadoluajansi  \n",
       "8   Gaziantep'in İslahiye ilçesinde AFAD'ın kurduğ...  anadoluajansi  \n",
       "9   Hocalı Katliamı'nı soruşturan savcı Memmedov: ...  anadoluajansi  \n",
       "10  ❝Buradaki vatandaşlarımızın hem kendilerine he...  anadoluajansi  "
      ]
     },
     "execution_count": 27,
     "metadata": {},
     "output_type": "execute_result"
    }
   ],
   "source": [
    "tweets_df1"
   ]
  },
  {
   "cell_type": "markdown",
   "id": "b2fb9fe7",
   "metadata": {},
   "source": [
    "## Getting Replies"
   ]
  },
  {
   "cell_type": "code",
   "execution_count": 9,
   "id": "18779a5b",
   "metadata": {},
   "outputs": [
    {
     "data": {
      "text/plain": [
       "[Tweet(url='https://twitter.com/anadoluajansi/status/1629909176334925826', date=datetime.datetime(2023, 2, 26, 18, 20, 4, tzinfo=datetime.timezone.utc), rawContent=\"❝Buradaki vatandaşlarımızın hem kendilerine hem de Diyanet İşleri Başkanlığımız Diyanet Çocuk Projesi içerisinde eğitim alan buradaki çocuklarımızı ziyaret ettik❞\\n\\nDiyanet İşleri Başkanı Erbaş, Malatya'da depremzede çocuklarla buluştu https://t.co/W23z7CmrL5 https://t.co/5EU9Lax5qT\", renderedContent=\"❝Buradaki vatandaşlarımızın hem kendilerine hem de Diyanet İşleri Başkanlığımız Diyanet Çocuk Projesi içerisinde eğitim alan buradaki çocuklarımızı ziyaret ettik❞\\n\\nDiyanet İşleri Başkanı Erbaş, Malatya'da depremzede çocuklarla buluştu v.aa.com.tr/2831710 https://t.co/5EU9Lax5qT\", id=1629909176334925826, user=User(username='anadoluajansi', id=461858710, displayname='ANADOLU AJANSI', rawDescription=\"Anadolu Ajansı'ndan haber, analiz, fotoğraf ve videolar. Son dakika için @AACanli hesabımızı takip edin. Eng: @anadoluagency Ar: @aa_arabic\", renderedDescription=\"Anadolu Ajansı'ndan haber, analiz, fotoğraf ve videolar. Son dakika için @AACanli hesabımızı takip edin. Eng: @anadoluagency Ar: @aa_arabic\", descriptionLinks=None, verified=True, created=datetime.datetime(2012, 1, 12, 8, 28, 47, tzinfo=datetime.timezone.utc), followersCount=3669568, friendsCount=35, statusesCount=471377, favouritesCount=7, listedCount=3908, mediaCount=315602, location='Türkiye', protected=False, link=TextLink(text='aa.com.tr', url='http://www.aa.com.tr', tcourl='https://t.co/BtBfIrmK6f', indices=(0, 23)), profileImageUrl='https://pbs.twimg.com/profile_images/1622693573001941028/FP9-bC05_normal.jpg', profileBannerUrl='https://pbs.twimg.com/profile_banners/461858710/1676198668', label=None), replyCount=6, retweetCount=7, likeCount=130, quoteCount=0, conversationId=1629909176334925826, lang='tr', source=None, sourceUrl=None, sourceLabel=None, links=[TextLink(text='v.aa.com.tr/2831710', url='http://v.aa.com.tr/2831710', tcourl='https://t.co/W23z7CmrL5', indices=(235, 258))], media=[Photo(previewUrl='https://pbs.twimg.com/media/Fp6ZwfzXsAMsioH?format=jpg&name=small', fullUrl='https://pbs.twimg.com/media/Fp6ZwfzXsAMsioH?format=jpg&name=orig', altText=None)], retweetedTweet=None, quotedTweet=None, inReplyToTweetId=None, inReplyToUser=None, mentionedUsers=None, coordinates=None, place=None, hashtags=None, cashtags=None, card=None, viewCount=53074, vibe=None),\n",
       " Tweet(url='https://twitter.com/DenizPrekazi/status/1629909467667001349', date=datetime.datetime(2023, 2, 26, 18, 21, 14, tzinfo=datetime.timezone.utc), rawContent='@anadoluajansi Çocuklardan uzak dur sen ulan', renderedContent='@anadoluajansi Çocuklardan uzak dur sen ulan', id=1629909467667001349, user=User(username='DenizPrekazi', id=1625793727330492416, displayname='Deniz Prekazi', rawDescription='', renderedDescription='', descriptionLinks=None, verified=False, created=datetime.datetime(2023, 2, 15, 9, 47, 22, tzinfo=datetime.timezone.utc), followersCount=3, friendsCount=131, statusesCount=247, favouritesCount=502, listedCount=0, mediaCount=3, location='', protected=False, link=None, profileImageUrl='https://pbs.twimg.com/profile_images/1625794039374127104/zrlmgWjE_normal.jpg', profileBannerUrl=None, label=None), replyCount=0, retweetCount=0, likeCount=0, quoteCount=0, conversationId=1629909176334925826, lang='tr', source=None, sourceUrl=None, sourceLabel=None, links=None, media=None, retweetedTweet=None, quotedTweet=None, inReplyToTweetId=1629909176334925826, inReplyToUser=User(username='anadoluajansi', id=461858710, displayname='ANADOLU AJANSI', rawDescription=None, renderedDescription=None, descriptionLinks=None, verified=None, created=None, followersCount=None, friendsCount=None, statusesCount=None, favouritesCount=None, listedCount=None, mediaCount=None, location=None, protected=None, link=None, profileImageUrl=None, profileBannerUrl=None, label=None), mentionedUsers=[User(username='anadoluajansi', id=461858710, displayname='ANADOLU AJANSI', rawDescription=None, renderedDescription=None, descriptionLinks=None, verified=None, created=None, followersCount=None, friendsCount=None, statusesCount=None, favouritesCount=None, listedCount=None, mediaCount=None, location=None, protected=None, link=None, profileImageUrl=None, profileBannerUrl=None, label=None)], coordinates=None, place=None, hashtags=None, cashtags=None, card=None, viewCount=84, vibe=None),\n",
       " Tweet(url='https://twitter.com/gursugur/status/1629909558851166212', date=datetime.datetime(2023, 2, 26, 18, 21, 35, tzinfo=datetime.timezone.utc), rawContent='@anadoluajansi kurşun geçirmez arabasıyla mı gitmiş', renderedContent='@anadoluajansi kurşun geçirmez arabasıyla mı gitmiş', id=1629909558851166212, user=User(username='gursugur', id=77304513, displayname='Bunlar Monşer', rawDescription='opportunity cost please', renderedDescription='opportunity cost please', descriptionLinks=None, verified=False, created=datetime.datetime(2009, 9, 25, 20, 34, 58, tzinfo=datetime.timezone.utc), followersCount=75, friendsCount=540, statusesCount=1539, favouritesCount=12137, listedCount=7, mediaCount=120, location='', protected=False, link=None, profileImageUrl='https://pbs.twimg.com/profile_images/1609593209943986183/dD5kM7mS_normal.jpg', profileBannerUrl='https://pbs.twimg.com/profile_banners/77304513/1672591741', label=None), replyCount=1, retweetCount=0, likeCount=0, quoteCount=0, conversationId=1629909176334925826, lang='tr', source=None, sourceUrl=None, sourceLabel=None, links=None, media=None, retweetedTweet=None, quotedTweet=None, inReplyToTweetId=1629909176334925826, inReplyToUser=User(username='anadoluajansi', id=461858710, displayname='ANADOLU AJANSI', rawDescription=None, renderedDescription=None, descriptionLinks=None, verified=None, created=None, followersCount=None, friendsCount=None, statusesCount=None, favouritesCount=None, listedCount=None, mediaCount=None, location=None, protected=None, link=None, profileImageUrl=None, profileBannerUrl=None, label=None), mentionedUsers=[User(username='anadoluajansi', id=461858710, displayname='ANADOLU AJANSI', rawDescription=None, renderedDescription=None, descriptionLinks=None, verified=None, created=None, followersCount=None, friendsCount=None, statusesCount=None, favouritesCount=None, listedCount=None, mediaCount=None, location=None, protected=None, link=None, profileImageUrl=None, profileBannerUrl=None, label=None)], coordinates=None, place=None, hashtags=None, cashtags=None, card=None, viewCount=38, vibe=None),\n",
       " Tweet(url='https://twitter.com/koksalhuseyn/status/1629911125344022540', date=datetime.datetime(2023, 2, 26, 18, 27, 49, tzinfo=datetime.timezone.utc), rawContent='@anadoluajansi Çok edebi bi cümle olmuş. Sırlarla dolu.', renderedContent='@anadoluajansi Çok edebi bi cümle olmuş. Sırlarla dolu.', id=1629911125344022540, user=User(username='koksalhuseyn', id=1477260350, displayname='Hüseyin Köksal', rawDescription='', renderedDescription='', descriptionLinks=None, verified=False, created=datetime.datetime(2013, 6, 2, 12, 59, 39, tzinfo=datetime.timezone.utc), followersCount=2488, friendsCount=861, statusesCount=3295, favouritesCount=14018, listedCount=4, mediaCount=284, location='Ankara', protected=False, link=None, profileImageUrl='https://pbs.twimg.com/profile_images/1275231122704740357/vXpmpnGM_normal.jpg', profileBannerUrl='https://pbs.twimg.com/profile_banners/1477260350/1598656070', label=None), replyCount=0, retweetCount=0, likeCount=9, quoteCount=0, conversationId=1629909176334925826, lang='tr', source=None, sourceUrl=None, sourceLabel=None, links=None, media=None, retweetedTweet=None, quotedTweet=None, inReplyToTweetId=1629909176334925826, inReplyToUser=User(username='anadoluajansi', id=461858710, displayname='ANADOLU AJANSI', rawDescription=None, renderedDescription=None, descriptionLinks=None, verified=None, created=None, followersCount=None, friendsCount=None, statusesCount=None, favouritesCount=None, listedCount=None, mediaCount=None, location=None, protected=None, link=None, profileImageUrl=None, profileBannerUrl=None, label=None), mentionedUsers=[User(username='anadoluajansi', id=461858710, displayname='ANADOLU AJANSI', rawDescription=None, renderedDescription=None, descriptionLinks=None, verified=None, created=None, followersCount=None, friendsCount=None, statusesCount=None, favouritesCount=None, listedCount=None, mediaCount=None, location=None, protected=None, link=None, profileImageUrl=None, profileBannerUrl=None, label=None)], coordinates=None, place=None, hashtags=None, cashtags=None, card=None, viewCount=519, vibe=None),\n",
       " Tweet(url='https://twitter.com/gun_Beyde/status/1629945442917122055', date=datetime.datetime(2023, 2, 26, 20, 44, 11, tzinfo=datetime.timezone.utc), rawContent='@anadoluajansi Melun', renderedContent='@anadoluajansi Melun', id=1629945442917122055, user=User(username='gun_Beyde', id=757247247813844993, displayname='sipse', rawDescription='', renderedDescription='', descriptionLinks=None, verified=False, created=datetime.datetime(2016, 7, 24, 16, 13, 7, tzinfo=datetime.timezone.utc), followersCount=33, friendsCount=175, statusesCount=8926, favouritesCount=12531, listedCount=1, mediaCount=12, location='', protected=False, link=None, profileImageUrl='https://abs.twimg.com/sticky/default_profile_images/default_profile_normal.png', profileBannerUrl=None, label=None), replyCount=0, retweetCount=0, likeCount=0, quoteCount=0, conversationId=1629909176334925826, lang='in', source=None, sourceUrl=None, sourceLabel=None, links=None, media=None, retweetedTweet=None, quotedTweet=None, inReplyToTweetId=1629909176334925826, inReplyToUser=User(username='anadoluajansi', id=461858710, displayname='ANADOLU AJANSI', rawDescription=None, renderedDescription=None, descriptionLinks=None, verified=None, created=None, followersCount=None, friendsCount=None, statusesCount=None, favouritesCount=None, listedCount=None, mediaCount=None, location=None, protected=None, link=None, profileImageUrl=None, profileBannerUrl=None, label=None), mentionedUsers=[User(username='anadoluajansi', id=461858710, displayname='ANADOLU AJANSI', rawDescription=None, renderedDescription=None, descriptionLinks=None, verified=None, created=None, followersCount=None, friendsCount=None, statusesCount=None, favouritesCount=None, listedCount=None, mediaCount=None, location=None, protected=None, link=None, profileImageUrl=None, profileBannerUrl=None, label=None)], coordinates=None, place=None, hashtags=None, cashtags=None, card=None, viewCount=25, vibe=None),\n",
       " Tweet(url='https://twitter.com/owlofbeacon/status/1629933525896949760', date=datetime.datetime(2023, 2, 26, 19, 56, 49, tzinfo=datetime.timezone.utc), rawContent='@gursugur @anadoluajansi izan geçirmez şapkanla mı yazdın?', renderedContent='@gursugur @anadoluajansi izan geçirmez şapkanla mı yazdın?', id=1629933525896949760, user=User(username='owlofbeacon', id=210876309, displayname='A. Glaucus', rawDescription=\"Zekânın üretim unsurları ilgi,bilgi,sezgi ve duyarlılık (alâka,malûmat,feraset ve hassasiyet) selim diyalektikle buluşunca,fikir ve fiilde hata 'hiç'e yaklaşır.\", renderedDescription=\"Zekânın üretim unsurları ilgi,bilgi,sezgi ve duyarlılık (alâka,malûmat,feraset ve hassasiyet) selim diyalektikle buluşunca,fikir ve fiilde hata 'hiç'e yaklaşır.\", descriptionLinks=None, verified=False, created=datetime.datetime(2010, 11, 1, 17, 16, 59, tzinfo=datetime.timezone.utc), followersCount=600, friendsCount=600, statusesCount=150248, favouritesCount=83775, listedCount=2, mediaCount=1592, location='', protected=False, link=None, profileImageUrl='https://pbs.twimg.com/profile_images/1222962728677072896/UgTnJ9ws_normal.jpg', profileBannerUrl='https://pbs.twimg.com/profile_banners/210876309/1563388072', label=None), replyCount=0, retweetCount=0, likeCount=0, quoteCount=0, conversationId=1629909176334925826, lang='tr', source=None, sourceUrl=None, sourceLabel=None, links=None, media=None, retweetedTweet=None, quotedTweet=None, inReplyToTweetId=1629909558851166212, inReplyToUser=User(username='gursugur', id=77304513, displayname='Bunlar Monşer', rawDescription=None, renderedDescription=None, descriptionLinks=None, verified=None, created=None, followersCount=None, friendsCount=None, statusesCount=None, favouritesCount=None, listedCount=None, mediaCount=None, location=None, protected=None, link=None, profileImageUrl=None, profileBannerUrl=None, label=None), mentionedUsers=[User(username='gursugur', id=77304513, displayname='Bunlar Monşer', rawDescription=None, renderedDescription=None, descriptionLinks=None, verified=None, created=None, followersCount=None, friendsCount=None, statusesCount=None, favouritesCount=None, listedCount=None, mediaCount=None, location=None, protected=None, link=None, profileImageUrl=None, profileBannerUrl=None, label=None), User(username='anadoluajansi', id=461858710, displayname='ANADOLU AJANSI', rawDescription=None, renderedDescription=None, descriptionLinks=None, verified=None, created=None, followersCount=None, friendsCount=None, statusesCount=None, favouritesCount=None, listedCount=None, mediaCount=None, location=None, protected=None, link=None, profileImageUrl=None, profileBannerUrl=None, label=None)], coordinates=None, place=None, hashtags=None, cashtags=None, card=None, viewCount=7, vibe=None)]"
      ]
     },
     "execution_count": 9,
     "metadata": {},
     "output_type": "execute_result"
    }
   ],
   "source": [
    "# To get replies \n",
    "\n",
    "import snscrape.modules.twitter as sntwitter\n",
    "mode = sntwitter.TwitterTweetScraperMode\n",
    "sncraper_reply = sntwitter.TwitterTweetScraper(tweetId=\"1629909176334925826\", mode=mode.RECURSE)\n",
    "replies = list(sncraper_reply.get_items())\n",
    "replies"
   ]
  },
  {
   "cell_type": "code",
   "execution_count": 10,
   "id": "48c66881",
   "metadata": {},
   "outputs": [
    {
     "data": {
      "text/plain": [
       "[Tweet(url='https://twitter.com/anadoluajansi/status/1629909176334925826', date=datetime.datetime(2023, 2, 26, 18, 20, 4, tzinfo=datetime.timezone.utc), rawContent=\"❝Buradaki vatandaşlarımızın hem kendilerine hem de Diyanet İşleri Başkanlığımız Diyanet Çocuk Projesi içerisinde eğitim alan buradaki çocuklarımızı ziyaret ettik❞\\n\\nDiyanet İşleri Başkanı Erbaş, Malatya'da depremzede çocuklarla buluştu https://t.co/W23z7CmrL5 https://t.co/5EU9Lax5qT\", renderedContent=\"❝Buradaki vatandaşlarımızın hem kendilerine hem de Diyanet İşleri Başkanlığımız Diyanet Çocuk Projesi içerisinde eğitim alan buradaki çocuklarımızı ziyaret ettik❞\\n\\nDiyanet İşleri Başkanı Erbaş, Malatya'da depremzede çocuklarla buluştu v.aa.com.tr/2831710 https://t.co/5EU9Lax5qT\", id=1629909176334925826, user=User(username='anadoluajansi', id=461858710, displayname='ANADOLU AJANSI', rawDescription=\"Anadolu Ajansı'ndan haber, analiz, fotoğraf ve videolar. Son dakika için @AACanli hesabımızı takip edin. Eng: @anadoluagency Ar: @aa_arabic\", renderedDescription=\"Anadolu Ajansı'ndan haber, analiz, fotoğraf ve videolar. Son dakika için @AACanli hesabımızı takip edin. Eng: @anadoluagency Ar: @aa_arabic\", descriptionLinks=None, verified=True, created=datetime.datetime(2012, 1, 12, 8, 28, 47, tzinfo=datetime.timezone.utc), followersCount=3669568, friendsCount=35, statusesCount=471377, favouritesCount=7, listedCount=3908, mediaCount=315602, location='Türkiye', protected=False, link=TextLink(text='aa.com.tr', url='http://www.aa.com.tr', tcourl='https://t.co/BtBfIrmK6f', indices=(0, 23)), profileImageUrl='https://pbs.twimg.com/profile_images/1622693573001941028/FP9-bC05_normal.jpg', profileBannerUrl='https://pbs.twimg.com/profile_banners/461858710/1676198668', label=None), replyCount=6, retweetCount=7, likeCount=130, quoteCount=0, conversationId=1629909176334925826, lang='tr', source=None, sourceUrl=None, sourceLabel=None, links=[TextLink(text='v.aa.com.tr/2831710', url='http://v.aa.com.tr/2831710', tcourl='https://t.co/W23z7CmrL5', indices=(235, 258))], media=[Photo(previewUrl='https://pbs.twimg.com/media/Fp6ZwfzXsAMsioH?format=jpg&name=small', fullUrl='https://pbs.twimg.com/media/Fp6ZwfzXsAMsioH?format=jpg&name=orig', altText=None)], retweetedTweet=None, quotedTweet=None, inReplyToTweetId=None, inReplyToUser=None, mentionedUsers=None, coordinates=None, place=None, hashtags=None, cashtags=None, card=None, viewCount=53074, vibe=None),\n",
       " Tweet(url='https://twitter.com/DenizPrekazi/status/1629909467667001349', date=datetime.datetime(2023, 2, 26, 18, 21, 14, tzinfo=datetime.timezone.utc), rawContent='@anadoluajansi Çocuklardan uzak dur sen ulan', renderedContent='@anadoluajansi Çocuklardan uzak dur sen ulan', id=1629909467667001349, user=User(username='DenizPrekazi', id=1625793727330492416, displayname='Deniz Prekazi', rawDescription='', renderedDescription='', descriptionLinks=None, verified=False, created=datetime.datetime(2023, 2, 15, 9, 47, 22, tzinfo=datetime.timezone.utc), followersCount=3, friendsCount=131, statusesCount=247, favouritesCount=502, listedCount=0, mediaCount=3, location='', protected=False, link=None, profileImageUrl='https://pbs.twimg.com/profile_images/1625794039374127104/zrlmgWjE_normal.jpg', profileBannerUrl=None, label=None), replyCount=0, retweetCount=0, likeCount=0, quoteCount=0, conversationId=1629909176334925826, lang='tr', source=None, sourceUrl=None, sourceLabel=None, links=None, media=None, retweetedTweet=None, quotedTweet=None, inReplyToTweetId=1629909176334925826, inReplyToUser=User(username='anadoluajansi', id=461858710, displayname='ANADOLU AJANSI', rawDescription=None, renderedDescription=None, descriptionLinks=None, verified=None, created=None, followersCount=None, friendsCount=None, statusesCount=None, favouritesCount=None, listedCount=None, mediaCount=None, location=None, protected=None, link=None, profileImageUrl=None, profileBannerUrl=None, label=None), mentionedUsers=[User(username='anadoluajansi', id=461858710, displayname='ANADOLU AJANSI', rawDescription=None, renderedDescription=None, descriptionLinks=None, verified=None, created=None, followersCount=None, friendsCount=None, statusesCount=None, favouritesCount=None, listedCount=None, mediaCount=None, location=None, protected=None, link=None, profileImageUrl=None, profileBannerUrl=None, label=None)], coordinates=None, place=None, hashtags=None, cashtags=None, card=None, viewCount=84, vibe=None),\n",
       " Tweet(url='https://twitter.com/gursugur/status/1629909558851166212', date=datetime.datetime(2023, 2, 26, 18, 21, 35, tzinfo=datetime.timezone.utc), rawContent='@anadoluajansi kurşun geçirmez arabasıyla mı gitmiş', renderedContent='@anadoluajansi kurşun geçirmez arabasıyla mı gitmiş', id=1629909558851166212, user=User(username='gursugur', id=77304513, displayname='Bunlar Monşer', rawDescription='opportunity cost please', renderedDescription='opportunity cost please', descriptionLinks=None, verified=False, created=datetime.datetime(2009, 9, 25, 20, 34, 58, tzinfo=datetime.timezone.utc), followersCount=75, friendsCount=540, statusesCount=1539, favouritesCount=12137, listedCount=7, mediaCount=120, location='', protected=False, link=None, profileImageUrl='https://pbs.twimg.com/profile_images/1609593209943986183/dD5kM7mS_normal.jpg', profileBannerUrl='https://pbs.twimg.com/profile_banners/77304513/1672591741', label=None), replyCount=1, retweetCount=0, likeCount=0, quoteCount=0, conversationId=1629909176334925826, lang='tr', source=None, sourceUrl=None, sourceLabel=None, links=None, media=None, retweetedTweet=None, quotedTweet=None, inReplyToTweetId=1629909176334925826, inReplyToUser=User(username='anadoluajansi', id=461858710, displayname='ANADOLU AJANSI', rawDescription=None, renderedDescription=None, descriptionLinks=None, verified=None, created=None, followersCount=None, friendsCount=None, statusesCount=None, favouritesCount=None, listedCount=None, mediaCount=None, location=None, protected=None, link=None, profileImageUrl=None, profileBannerUrl=None, label=None), mentionedUsers=[User(username='anadoluajansi', id=461858710, displayname='ANADOLU AJANSI', rawDescription=None, renderedDescription=None, descriptionLinks=None, verified=None, created=None, followersCount=None, friendsCount=None, statusesCount=None, favouritesCount=None, listedCount=None, mediaCount=None, location=None, protected=None, link=None, profileImageUrl=None, profileBannerUrl=None, label=None)], coordinates=None, place=None, hashtags=None, cashtags=None, card=None, viewCount=38, vibe=None),\n",
       " Tweet(url='https://twitter.com/koksalhuseyn/status/1629911125344022540', date=datetime.datetime(2023, 2, 26, 18, 27, 49, tzinfo=datetime.timezone.utc), rawContent='@anadoluajansi Çok edebi bi cümle olmuş. Sırlarla dolu.', renderedContent='@anadoluajansi Çok edebi bi cümle olmuş. Sırlarla dolu.', id=1629911125344022540, user=User(username='koksalhuseyn', id=1477260350, displayname='Hüseyin Köksal', rawDescription='', renderedDescription='', descriptionLinks=None, verified=False, created=datetime.datetime(2013, 6, 2, 12, 59, 39, tzinfo=datetime.timezone.utc), followersCount=2488, friendsCount=861, statusesCount=3295, favouritesCount=14018, listedCount=4, mediaCount=284, location='Ankara', protected=False, link=None, profileImageUrl='https://pbs.twimg.com/profile_images/1275231122704740357/vXpmpnGM_normal.jpg', profileBannerUrl='https://pbs.twimg.com/profile_banners/1477260350/1598656070', label=None), replyCount=0, retweetCount=0, likeCount=9, quoteCount=0, conversationId=1629909176334925826, lang='tr', source=None, sourceUrl=None, sourceLabel=None, links=None, media=None, retweetedTweet=None, quotedTweet=None, inReplyToTweetId=1629909176334925826, inReplyToUser=User(username='anadoluajansi', id=461858710, displayname='ANADOLU AJANSI', rawDescription=None, renderedDescription=None, descriptionLinks=None, verified=None, created=None, followersCount=None, friendsCount=None, statusesCount=None, favouritesCount=None, listedCount=None, mediaCount=None, location=None, protected=None, link=None, profileImageUrl=None, profileBannerUrl=None, label=None), mentionedUsers=[User(username='anadoluajansi', id=461858710, displayname='ANADOLU AJANSI', rawDescription=None, renderedDescription=None, descriptionLinks=None, verified=None, created=None, followersCount=None, friendsCount=None, statusesCount=None, favouritesCount=None, listedCount=None, mediaCount=None, location=None, protected=None, link=None, profileImageUrl=None, profileBannerUrl=None, label=None)], coordinates=None, place=None, hashtags=None, cashtags=None, card=None, viewCount=519, vibe=None),\n",
       " Tweet(url='https://twitter.com/gun_Beyde/status/1629945442917122055', date=datetime.datetime(2023, 2, 26, 20, 44, 11, tzinfo=datetime.timezone.utc), rawContent='@anadoluajansi Melun', renderedContent='@anadoluajansi Melun', id=1629945442917122055, user=User(username='gun_Beyde', id=757247247813844993, displayname='sipse', rawDescription='', renderedDescription='', descriptionLinks=None, verified=False, created=datetime.datetime(2016, 7, 24, 16, 13, 7, tzinfo=datetime.timezone.utc), followersCount=33, friendsCount=175, statusesCount=8926, favouritesCount=12531, listedCount=1, mediaCount=12, location='', protected=False, link=None, profileImageUrl='https://abs.twimg.com/sticky/default_profile_images/default_profile_normal.png', profileBannerUrl=None, label=None), replyCount=0, retweetCount=0, likeCount=0, quoteCount=0, conversationId=1629909176334925826, lang='in', source=None, sourceUrl=None, sourceLabel=None, links=None, media=None, retweetedTweet=None, quotedTweet=None, inReplyToTweetId=1629909176334925826, inReplyToUser=User(username='anadoluajansi', id=461858710, displayname='ANADOLU AJANSI', rawDescription=None, renderedDescription=None, descriptionLinks=None, verified=None, created=None, followersCount=None, friendsCount=None, statusesCount=None, favouritesCount=None, listedCount=None, mediaCount=None, location=None, protected=None, link=None, profileImageUrl=None, profileBannerUrl=None, label=None), mentionedUsers=[User(username='anadoluajansi', id=461858710, displayname='ANADOLU AJANSI', rawDescription=None, renderedDescription=None, descriptionLinks=None, verified=None, created=None, followersCount=None, friendsCount=None, statusesCount=None, favouritesCount=None, listedCount=None, mediaCount=None, location=None, protected=None, link=None, profileImageUrl=None, profileBannerUrl=None, label=None)], coordinates=None, place=None, hashtags=None, cashtags=None, card=None, viewCount=25, vibe=None),\n",
       " Tweet(url='https://twitter.com/owlofbeacon/status/1629933525896949760', date=datetime.datetime(2023, 2, 26, 19, 56, 49, tzinfo=datetime.timezone.utc), rawContent='@gursugur @anadoluajansi izan geçirmez şapkanla mı yazdın?', renderedContent='@gursugur @anadoluajansi izan geçirmez şapkanla mı yazdın?', id=1629933525896949760, user=User(username='owlofbeacon', id=210876309, displayname='A. Glaucus', rawDescription=\"Zekânın üretim unsurları ilgi,bilgi,sezgi ve duyarlılık (alâka,malûmat,feraset ve hassasiyet) selim diyalektikle buluşunca,fikir ve fiilde hata 'hiç'e yaklaşır.\", renderedDescription=\"Zekânın üretim unsurları ilgi,bilgi,sezgi ve duyarlılık (alâka,malûmat,feraset ve hassasiyet) selim diyalektikle buluşunca,fikir ve fiilde hata 'hiç'e yaklaşır.\", descriptionLinks=None, verified=False, created=datetime.datetime(2010, 11, 1, 17, 16, 59, tzinfo=datetime.timezone.utc), followersCount=600, friendsCount=600, statusesCount=150248, favouritesCount=83775, listedCount=2, mediaCount=1592, location='', protected=False, link=None, profileImageUrl='https://pbs.twimg.com/profile_images/1222962728677072896/UgTnJ9ws_normal.jpg', profileBannerUrl='https://pbs.twimg.com/profile_banners/210876309/1563388072', label=None), replyCount=0, retweetCount=0, likeCount=0, quoteCount=0, conversationId=1629909176334925826, lang='tr', source=None, sourceUrl=None, sourceLabel=None, links=None, media=None, retweetedTweet=None, quotedTweet=None, inReplyToTweetId=1629909558851166212, inReplyToUser=User(username='gursugur', id=77304513, displayname='Bunlar Monşer', rawDescription=None, renderedDescription=None, descriptionLinks=None, verified=None, created=None, followersCount=None, friendsCount=None, statusesCount=None, favouritesCount=None, listedCount=None, mediaCount=None, location=None, protected=None, link=None, profileImageUrl=None, profileBannerUrl=None, label=None), mentionedUsers=[User(username='gursugur', id=77304513, displayname='Bunlar Monşer', rawDescription=None, renderedDescription=None, descriptionLinks=None, verified=None, created=None, followersCount=None, friendsCount=None, statusesCount=None, favouritesCount=None, listedCount=None, mediaCount=None, location=None, protected=None, link=None, profileImageUrl=None, profileBannerUrl=None, label=None), User(username='anadoluajansi', id=461858710, displayname='ANADOLU AJANSI', rawDescription=None, renderedDescription=None, descriptionLinks=None, verified=None, created=None, followersCount=None, friendsCount=None, statusesCount=None, favouritesCount=None, listedCount=None, mediaCount=None, location=None, protected=None, link=None, profileImageUrl=None, profileBannerUrl=None, label=None)], coordinates=None, place=None, hashtags=None, cashtags=None, card=None, viewCount=7, vibe=None)]"
      ]
     },
     "execution_count": 10,
     "metadata": {},
     "output_type": "execute_result"
    }
   ],
   "source": [
    "list(sncraper_reply.get_items())"
   ]
  },
  {
   "cell_type": "markdown",
   "id": "6449b565",
   "metadata": {},
   "source": [
    "## Notes\n",
    "\n",
    "The `TwitterSearchScraper` uses Twitter's advanced search. "
   ]
  }
 ],
 "metadata": {
  "kernelspec": {
   "display_name": "Python 3 (ipykernel)",
   "language": "python",
   "name": "python3"
  },
  "language_info": {
   "codemirror_mode": {
    "name": "ipython",
    "version": 3
   },
   "file_extension": ".py",
   "mimetype": "text/x-python",
   "name": "python",
   "nbconvert_exporter": "python",
   "pygments_lexer": "ipython3",
   "version": "3.9.15"
  },
  "toc": {
   "base_numbering": 1,
   "nav_menu": {},
   "number_sections": true,
   "sideBar": true,
   "skip_h1_title": false,
   "title_cell": "Table of Contents",
   "title_sidebar": "Contents",
   "toc_cell": false,
   "toc_position": {
    "height": "calc(100% - 180px)",
    "left": "10px",
    "top": "150px",
    "width": "165px"
   },
   "toc_section_display": true,
   "toc_window_display": true
  }
 },
 "nbformat": 4,
 "nbformat_minor": 5
}
